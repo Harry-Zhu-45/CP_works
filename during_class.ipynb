{
 "cells": [
  {
   "cell_type": "markdown",
   "metadata": {},
   "source": [
    "# Computational Physics\n",
    "\n",
    "## 常用包\n",
    "\n",
    "- Numpy     科学计算\n",
    "- Sympy     符号计算\n",
    "- VPython   三维\n",
    "- JAX       调用GPU\n",
    "- PtTorch   深度学习\n",
    "- ROOT      Data Analysis Framework\n",
    "\n",
    "## 安装vpython\n",
    "\n",
    "conda install vpython\n",
    "\n",
    "conda install -c conda-forge vpython\n",
    "\n",
    "## 课堂迷糊听讲\n",
    "\n",
    "随机游走？\n",
    "\n",
    "指定数据类型？\n",
    "\n",
    "函数式编程？\n"
   ]
  },
  {
   "cell_type": "code",
   "execution_count": null,
   "metadata": {
    "scrolled": true
   },
   "outputs": [],
   "source": [
    "import matplotlib.pyplot as plt\n",
    "import numpy as np\n",
    "\n",
    "\n",
    "plt.title('Grade Inflation')# Title and labels\n",
    "plt.xlabel('Years in College')\n",
    "plt.ylabel('GPA')\n",
    "\n",
    "xa = np.array([-1, 5])  # For horizontal line\n",
    "ya = np.array([0, 0])  # \" \"\n",
    "plt.plot(xa, ya)  # Draw hor izontal line\n",
    "\n",
    "x0 = np.array([0, 1, 2, 3, 4])  # Data set 0 points\n",
    "y0 = np.array([-1.4, + 1.1, 2.2, 3.3, 4.0])\n",
    "plt.plot(x0, y0, 'bo')  # Data set 0 = blue circles\n",
    "plt.plot(x0, y0, 'g')  # Data set 0 = line\n",
    "\n",
    "x1 = np.arange(0, 5, 1)  # Data set 1 points\n",
    "y1 = np.array([4.0, 2.7, -1.8, -0.9, 2.6])\n",
    "plt.plot(x1, y1, 'r')\n",
    "\n",
    "errTop = np.array([1.0, 0.3, 1.2, 0.4, 0.1])  # Asymmetric error bars\n",
    "errBot = np.array([2.0, 0.6, 2.3, 1.8, 0.4])\n",
    "plt.errorbar(x1, y1, [errBot, errTop], fmt='o')  # Plot error bars\n",
    "\n",
    "plt.grid(True)  # Grid line\n",
    "plt.show()  # Create plot on screen\n"
   ]
  },
  {
   "cell_type": "code",
   "execution_count": null,
   "metadata": {},
   "outputs": [],
   "source": [
    "# matplotlib 实例程序\n",
    "import matplotlib.pyplot as plt\n",
    "import numpy as np\n",
    "\n",
    "\n",
    "plt.style.use('_mpl-gallery')\n",
    "\n",
    "# make the data\n",
    "np.random.seed(3)\n",
    "x = 4 + np.random.normal(0, 2, 24)\n",
    "y = 4 + np.random.normal(0, 2, len(x))\n",
    "\n",
    "\n",
    "# size and color:\n",
    "sizes = np.random.uniform(15, 80, len(x))\n",
    "colors = np.random.uniform(15, 80, len(x))\n",
    "\n",
    "\n",
    "# plot\n",
    "fig, ax = plt.subplots()\n",
    "\n",
    "ax.scatter(x, y, s=sizes, c=colors, vmin=0, vmax=100)\n",
    "ax.set(xlim=(0, 8), xticks=np.arange(1, 8), ylim=(0, 8), yticks=np.arange(1, 8))\n",
    "\n",
    "\n",
    "plt.show()\n"
   ]
  }
 ],
 "metadata": {
  "kernelspec": {
   "display_name": "Python 3 (ipykernel)",
   "language": "python",
   "name": "python3"
  },
  "language_info": {
   "codemirror_mode": {
    "name": "ipython",
    "version": 3
   },
   "file_extension": ".py",
   "mimetype": "text/x-python",
   "name": "python",
   "nbconvert_exporter": "python",
   "pygments_lexer": "ipython3",
   "version": "3.9.13"
  },
  "vscode": {
   "interpreter": {
    "hash": "54138162965690a2a737bcfadfc96b28c50b8037099ed4be894d2f557985ce5f"
   }
  }
 },
 "nbformat": 4,
 "nbformat_minor": 2
}
