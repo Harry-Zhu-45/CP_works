{
 "cells": [
  {
   "cell_type": "markdown",
   "metadata": {},
   "source": [
    "# 计算物理第一次作业\n",
    "\n",
    "祝茗 2024202020022"
   ]
  },
  {
   "cell_type": "markdown",
   "metadata": {},
   "source": [
    "## Bessel 函数\n",
    "\n",
    "Bessel 方程为\n",
    "\n",
    "$$\n",
    "x^2 \\frac{\\mathrm{d}^2 y}{\\mathrm{d} x^2} + x \\frac{\\mathrm{d}x}{\\mathrm{d}y} + (x^2 - n^2) y = 0\n",
    "$$\n",
    "\n",
    "其中 $n$ 被称为其对应 Bessel 方程的阶数。实际应用中最常见的情形为 $n$ 是整数，对应解称为 $n$ 阶 Bessel 函数 $J_n(x)$\n",
    "\n",
    "Bessel 函数 $J_n(x)$ 之间有递推关系\n",
    "\n",
    "$$\n",
    "J_{n+1}(x) - \\frac{2n}{x} J_n(x) + J_{n-1}(x) = 0 \\tag{1}\n",
    "$$\n",
    "\n",
    "和一个求和恒等式\n",
    "\n",
    "$$\n",
    "\\left[J_0(x)\\right]^2 + 2 \\sum_{n=1}^{\\infty} [J_n(x)]^2 = 1 \\tag{2}\n",
    "$$\n",
    "\n",
    "根据这两个关系，我们可以来绘制，当 $x=1,10$ 时 Bessel 函数 $J_n(x)$ 作为 $n$ 的函数图像。\n",
    "\n",
    "可以预见的是\n",
    "\n",
    "$$\n",
    "\\left|J_n(x)\\right|_{n \\to \\infty} \\to 0\n",
    "$$\n",
    "\n",
    "考虑到数值计算的精度，当 $n$ 大到一定程度 (例如 $n>M$ 时)，都小于计算机浮点数可以允许的精度\n",
    "\n",
    "$$\n",
    "\\left|J_n(x)\\right|_{n \\ge M} \\le eps\n",
    "$$\n",
    "\n",
    "所以我们可以做一个假设\n",
    "\n",
    "$$\n",
    "J_M(x) = 0, \\quad J_{M-1} = 1\n",
    "$$\n",
    "\n",
    "然后根据递推关系，递推地算出其余 $J_n(x)$ 的相对大小，由于是齐次的线性的关系式，最后根据求和恒等式，就可以得到需要的答案。"
   ]
  },
  {
   "cell_type": "markdown",
   "metadata": {},
   "source": [
    "## 导入前置的包并设置基本的参数"
   ]
  },
  {
   "cell_type": "code",
   "execution_count": 37,
   "metadata": {},
   "outputs": [],
   "source": [
    "import numpy as np\n",
    "import matplotlib.pyplot as plt\n",
    "from scipy.special import jn\n",
    "\n",
    "epsi = 1e-9"
   ]
  },
  {
   "cell_type": "markdown",
   "metadata": {},
   "source": [
    "## 计算 Bessel 函数 $J_n(x)$"
   ]
  },
  {
   "cell_type": "code",
   "execution_count": 38,
   "metadata": {},
   "outputs": [],
   "source": [
    "def BesselJ_with_rescale(x: float | np.ndarray, M: int) -> np.ndarray:\n",
    "    \"\"\"计算 Bessel 函数 J_n(x) 的递推值，基于递推关系式。\n",
    "\n",
    "    对 J_n(x) 进行归一化处理，防止数值溢出。\n",
    "\n",
    "    Args:\n",
    "        x (float): 自变量\n",
    "        M (int): 返回的阶数\n",
    "\n",
    "    Returns:\n",
    "        np.ndarray: J_n(x) 的数组\n",
    "\n",
    "    Example:\n",
    "        >>> x = 1\n",
    "        >>> Jn = BesselJ(x, 10)\n",
    "        >>> plt.plot(x, Jn.T)\n",
    "        >>> plt.show()\n",
    "    \"\"\"\n",
    "    Jn = np.zeros(M+1)\n",
    "    Jn[M] = 0  # 假设 J_M(x) = 0\n",
    "    Jn[M-1] = 1  # 假设 J_{M-1}(x) = 1\n",
    "\n",
    "    for n in range(M-2, -1, -1):\n",
    "        Jn[n] = (2*(n+1)/x) * Jn[n+1] - Jn[n+2]\n",
    "\n",
    "        # 整体缩放，防止递推过程中数值溢出\n",
    "        if abs(Jn[n]) > 1/epsi:\n",
    "            Jn *= epsi\n",
    "\n",
    "    normalization_factor = np.sqrt(Jn[0]**2 + 2 * np.sum(Jn[1:]**2))\n",
    "    Jn /= normalization_factor\n",
    "    return Jn\n",
    "\n",
    "\n",
    "def BesselJ_without_rescale(x: float | np.ndarray, M: int) -> np.ndarray:\n",
    "    \"\"\"计算 Bessel 函数 J_n(x) 的递推值，基于递推关系式。\n",
    "\n",
    "    Args:\n",
    "        x (float): 自变量\n",
    "        M (int): 返回的阶数\n",
    "\n",
    "    Returns:\n",
    "        np.ndarray: J_n(x) 的数组\n",
    "\n",
    "    Example:\n",
    "        >>> x = np.linspace(0, 20, 100)\n",
    "        >>> Jn = BesselJ(x, 10)\n",
    "        >>> plt.plot(x, Jn.T)\n",
    "        >>> plt.show()\n",
    "    \"\"\"\n",
    "    Jn = np.zeros(M+1)\n",
    "    Jn[M] = 0  # 假设 J_M(x) = 0\n",
    "    Jn[M-1] = 1  # 假设 J_{M-1}(x) = 1\n",
    "\n",
    "    for n in range(M-2, -1, -1):\n",
    "        Jn[n] = (2*(n+1)/x) * Jn[n+1] - Jn[n+2]\n",
    "\n",
    "        # 不进行数值溢出处理\n",
    "        # if abs(Jn[n]) > 1/epsi:\n",
    "        #     Jn *= epsi\n",
    "\n",
    "    normalization_factor = np.sqrt(Jn[0]**2 + 2 * np.sum(Jn[1:]**2))\n",
    "    Jn /= normalization_factor\n",
    "    return Jn"
   ]
  },
  {
   "cell_type": "markdown",
   "metadata": {},
   "source": [
    "## 函数效果直观比较"
   ]
  },
  {
   "cell_type": "markdown",
   "metadata": {},
   "source": [
    "### $x = 1, M = 20$"
   ]
  },
  {
   "cell_type": "code",
   "execution_count": 73,
   "metadata": {},
   "outputs": [
    {
     "data": {
      "image/png": "[encoded data removed]",
      "text/plain": [
       "<Figure size 640x480 with 1 Axes>"
      ]
     },
     "metadata": {},
     "output_type": "display_data"
    }
   ],
   "source": [
    "x = 1\n",
    "M = 20\n",
    "\n",
    "J1 = BesselJ_with_rescale(x, M)\n",
    "J2 = BesselJ_without_rescale(x, M)\n",
    "J3 = np.array([jn(n, 1) for n in range(M+1)])\n",
    "\n",
    "# 前 m 个点的比较\n",
    "m = 11\n",
    "J1 = J1[:m]\n",
    "J2 = J2[:m]\n",
    "J3 = J3[:m]\n",
    "\n",
    "fig = plt.figure()\n",
    "\n",
    "plt.xlabel(f'$n$')\n",
    "plt.ylabel(f'$J_n(x=1)$')\n",
    "\n",
    "plt.plot(J1, 's', label='with rescale')\n",
    "plt.plot(J2, '*', label='without rescale')\n",
    "plt.plot(J3, '+', label='scipy.special.jn')\n",
    "plt.legend()\n",
    "plt.show()"
   ]
  },
  {
   "cell_type": "markdown",
   "metadata": {},
   "source": [
    "$M$ 较小的时候，是否在递推过程中整体放缩影响不大。"
   ]
  },
  {
   "cell_type": "markdown",
   "metadata": {},
   "source": [
    "### $x = 1, M = 90$"
   ]
  },
  {
   "cell_type": "code",
   "execution_count": 75,
   "metadata": {},
   "outputs": [
    {
     "name": "stderr",
     "output_type": "stream",
     "text": [
      "/tmp/ipykernel_13122/2824819278.py:62: RuntimeWarning: overflow encountered in scalar power\n",
      "  normalization_factor = np.sqrt(Jn[0]**2 + 2 * np.sum(Jn[1:]**2))\n",
      "/tmp/ipykernel_13122/2824819278.py:62: RuntimeWarning: overflow encountered in square\n",
      "  normalization_factor = np.sqrt(Jn[0]**2 + 2 * np.sum(Jn[1:]**2))\n"
     ]
    },
    {
     "data": {
      "image/png": "[encoded data removed]",
      "text/plain": [
       "<Figure size 640x480 with 1 Axes>"
      ]
     },
     "metadata": {},
     "output_type": "display_data"
    }
   ],
   "source": [
    "x = 1\n",
    "M = 90\n",
    "\n",
    "J1 = BesselJ_with_rescale(x, M)\n",
    "J2 = BesselJ_without_rescale(x, M)\n",
    "J3 = np.array([jn(n, 1) for n in range(M+1)])\n",
    "\n",
    "# 前 m 个点的比较\n",
    "m = 11\n",
    "J1 = J1[:m]\n",
    "J2 = J2[:m]\n",
    "J3 = J3[:m]\n",
    "\n",
    "fig = plt.figure()\n",
    "\n",
    "plt.xlabel(f'$n$')\n",
    "plt.ylabel(f'$J_n(x=10)$')\n",
    "\n",
    "plt.plot(J1, 's', label='with rescale')\n",
    "plt.plot(J2, '*', label='without rescale')\n",
    "plt.plot(J3, '+', label='scipy.special.jn')\n",
    "plt.legend()\n",
    "plt.show()"
   ]
  },
  {
   "cell_type": "markdown",
   "metadata": {},
   "source": [
    "$M$ 较大的时候，是否在递推过程中，如果不整体放缩，确实会对结果产生影响。"
   ]
  },
  {
   "cell_type": "markdown",
   "metadata": {},
   "source": [
    "### $x = 10, M = 20$"
   ]
  },
  {
   "cell_type": "code",
   "execution_count": 76,
   "metadata": {},
   "outputs": [
    {
     "data": {
      "image/png": "[encoded data removed]",
      "text/plain": [
       "<Figure size 640x480 with 1 Axes>"
      ]
     },
     "metadata": {},
     "output_type": "display_data"
    }
   ],
   "source": [
    "x = 10\n",
    "M = 20\n",
    "\n",
    "J1 = BesselJ_with_rescale(x, M)\n",
    "J2 = BesselJ_without_rescale(x, M)\n",
    "J3 = np.array([jn(n, 10) for n in range(M+1)])\n",
    "\n",
    "# 前 m 个点的比较\n",
    "m = 11\n",
    "J1 = J1[:m]\n",
    "J2 = J2[:m]\n",
    "J3 = J3[:m]\n",
    "\n",
    "fig = plt.figure()\n",
    "\n",
    "plt.xlabel(f'$n$')\n",
    "plt.ylabel(f'$J_n(x=1)$')\n",
    "\n",
    "plt.plot(J1, 's', label='with rescale')\n",
    "plt.plot(J2, '*', label='without rescale')\n",
    "plt.plot(J3, '+', label='scipy.special.jn')\n",
    "plt.legend()\n",
    "plt.show()"
   ]
  },
  {
   "cell_type": "markdown",
   "metadata": {},
   "source": [
    "$M$ 较小的时候，是否在递推过程中整体放缩影响不大。"
   ]
  },
  {
   "cell_type": "markdown",
   "metadata": {},
   "source": [
    "### $x = 10, M = 200$"
   ]
  },
  {
   "cell_type": "code",
   "execution_count": 81,
   "metadata": {},
   "outputs": [
    {
     "name": "stderr",
     "output_type": "stream",
     "text": [
      "/tmp/ipykernel_13122/2824819278.py:62: RuntimeWarning: overflow encountered in scalar power\n",
      "  normalization_factor = np.sqrt(Jn[0]**2 + 2 * np.sum(Jn[1:]**2))\n",
      "/tmp/ipykernel_13122/2824819278.py:62: RuntimeWarning: overflow encountered in square\n",
      "  normalization_factor = np.sqrt(Jn[0]**2 + 2 * np.sum(Jn[1:]**2))\n"
     ]
    },
    {
     "data": {
      "image/png": "[encoded data removed]",
      "text/plain": [
       "<Figure size 640x480 with 1 Axes>"
      ]
     },
     "metadata": {},
     "output_type": "display_data"
    }
   ],
   "source": [
    "x = 10\n",
    "M = 200\n",
    "\n",
    "J1 = BesselJ_with_rescale(x, M)\n",
    "J2 = BesselJ_without_rescale(x, M)\n",
    "J3 = np.array([jn(n, 10) for n in range(M+1)])\n",
    "\n",
    "# 前 m 个点的比较\n",
    "m = 11\n",
    "J1 = J1[:m]\n",
    "J2 = J2[:m]\n",
    "J3 = J3[:m]\n",
    "\n",
    "fig = plt.figure()\n",
    "\n",
    "plt.xlabel(f'$n$')\n",
    "plt.ylabel(f'$J_n(x=1)$')\n",
    "\n",
    "plt.plot(J1, 's', label='with rescale')\n",
    "plt.plot(J2, '*', label='without rescale')\n",
    "plt.plot(J3, '+', label='scipy.special.jn')\n",
    "plt.legend()\n",
    "plt.show()"
   ]
  },
  {
   "cell_type": "markdown",
   "metadata": {},
   "source": [
    "$M$ 较大的时候，是否在递推过程中，如果不整体放缩，确实会对结果产生影响。"
   ]
  },
  {
   "cell_type": "markdown",
   "metadata": {},
   "source": [
    "## 函数效果数值比较\n",
    "\n",
    "之后部分只使用函数 BesselJ_with_rescale"
   ]
  },
  {
   "cell_type": "code",
   "execution_count": 40,
   "metadata": {},
   "outputs": [],
   "source": [
    "import os\n",
    "import pandas as pd\n",
    "\n",
    "# 读取数据文件\n",
    "data_x1 = np.loadtxt(os.path.join('source', 'bessel_x1.dat'))\n",
    "data_x10 = np.loadtxt(os.path.join('source', 'bessel_x10.dat'))\n",
    "\n",
    "# dateframe\n",
    "df_x1 = pd.DataFrame(data_x1, columns=['n', 'J_n(x=1)'])\n",
    "df_x10 = pd.DataFrame(data_x10, columns=['n', 'J_n(x=10)'])"
   ]
  },
  {
   "cell_type": "code",
   "execution_count": 41,
   "metadata": {},
   "outputs": [
    {
     "name": "stdout",
     "output_type": "stream",
     "text": [
      "       n      J_n(x=1)  cal_J_n(x=1)         error\n",
      "0    0.0  7.651977e-01  7.651977e-01 -4.203349e-11\n",
      "1    1.0  4.400506e-01  4.400506e-01  4.493350e-11\n",
      "2    2.0  1.149035e-01  1.149035e-01  3.190047e-11\n",
      "3    3.0  1.956335e-02  1.956335e-02  2.668404e-12\n",
      "4    4.0  2.476639e-03  2.476639e-03  1.099550e-13\n",
      "5    5.0  2.497577e-04  2.497577e-04  1.123445e-14\n",
      "6    6.0  2.093834e-05  2.093834e-05  2.389266e-15\n",
      "7    7.0  1.502326e-06  1.502326e-06  4.368077e-16\n",
      "8    8.0  9.422344e-08  9.422344e-08 -3.961428e-18\n",
      "9    9.0  5.249250e-09  5.249250e-09 -1.904972e-19\n",
      "10  10.0  2.630615e-10  2.630615e-10 -1.867515e-18\n",
      "11  11.0  1.198007e-11  1.198003e-11 -3.661981e-17\n",
      "12  12.0  4.999718e-13  4.991680e-13 -8.038662e-16\n",
      "13  13.0  1.925617e-14  0.000000e+00 -1.925617e-14\n"
     ]
    }
   ],
   "source": [
    "cal_J1 = BesselJ_with_rescale(x=1, M=13)\n",
    "df_x1['cal_J_n(x=1)'] = cal_J1\n",
    "df_x1['error'] = df_x1['cal_J_n(x=1)'] - df_x1['J_n(x=1)']\n",
    "print(df_x1)"
   ]
  },
  {
   "cell_type": "code",
   "execution_count": 42,
   "metadata": {},
   "outputs": [
    {
     "name": "stdout",
     "output_type": "stream",
     "text": [
      "       n     J_n(x=10)  cal_J_n(x=10)         error\n",
      "0    0.0 -2.459358e-01  -2.459358e-01  4.865169e-11\n",
      "1    1.0  4.347275e-02   4.347275e-02 -1.138492e-12\n",
      "2    2.0  2.546303e-01   2.546303e-01 -1.487943e-11\n",
      "3    3.0  5.837938e-02   5.837938e-02 -4.813268e-12\n",
      "4    4.0 -2.196027e-01  -2.196027e-01 -2.008560e-12\n",
      "5    5.0 -2.340615e-01  -2.340615e-01  1.320641e-11\n",
      "6    6.0 -1.445884e-02  -1.445884e-02 -4.785042e-12\n",
      "7    7.0  2.167109e-01   2.167109e-01 -1.494843e-11\n",
      "8    8.0  3.178541e-01   3.178541e-01  4.385720e-11\n",
      "9    9.0  2.918557e-01   2.918557e-01 -3.487999e-11\n",
      "10  10.0  2.074861e-01   2.074861e-01  3.335879e-11\n",
      "11  11.0  1.231165e-01   1.231165e-01  1.597597e-12\n",
      "12  12.0  6.337025e-02   6.337025e-02  1.559863e-13\n",
      "13  13.0  2.897208e-02   2.897208e-02 -3.223248e-12\n",
      "14  14.0  1.195716e-02   1.195716e-02 -5.364268e-13\n",
      "15  15.0  4.507973e-03   4.507973e-03 -2.787484e-13\n",
      "16  16.0  1.566756e-03   1.566756e-03 -2.998205e-13\n",
      "17  17.0  5.056467e-04   5.056467e-04  1.932460e-14\n",
      "18  18.0  1.524425e-04   1.524425e-04  4.552419e-14\n",
      "19  19.0  4.314628e-05   4.314628e-05  4.562519e-15\n",
      "20  20.0  1.151337e-05   1.151337e-05 -2.186612e-15\n",
      "21  21.0  2.907199e-06   2.907199e-06 -3.089684e-16\n",
      "22  22.0  6.968685e-07   6.968685e-07 -1.105346e-17\n",
      "23  23.0  1.590220e-07   1.590220e-07 -1.966734e-17\n",
      "24  24.0  3.463263e-08   3.463263e-08  5.837778e-19\n",
      "25  25.0  7.214635e-09   7.214635e-09  4.694730e-19\n",
      "26  26.0  1.440545e-09   1.440545e-09 -2.364181e-19\n",
      "27  27.0  2.762005e-10   2.762005e-10  1.153141e-21\n",
      "28  28.0  5.093755e-11   5.093755e-11 -2.735481e-20\n",
      "29  29.0  9.049767e-12   9.049767e-12 -1.213401e-19\n",
      "30  30.0  1.551096e-12   1.551095e-12 -6.798177e-19\n",
      "31  31.0  2.568095e-13   2.568055e-13 -3.959366e-18\n",
      "32  32.0  4.112271e-14   4.109885e-14 -2.386780e-17\n",
      "33  33.0  6.375893e-15   6.227098e-15 -1.487946e-16\n",
      "34  34.0  9.581766e-16   0.000000e+00 -9.581766e-16\n"
     ]
    }
   ],
   "source": [
    "cal_J10 = BesselJ_with_rescale(x=10, M=34)\n",
    "df_x10['cal_J_n(x=10)'] = cal_J10\n",
    "df_x10['error'] = df_x10['cal_J_n(x=10)'] - df_x10['J_n(x=10)']\n",
    "print(df_x10)"
   ]
  },
  {
   "cell_type": "markdown",
   "metadata": {},
   "source": [
    "可以看出符合的很好。"
   ]
  }
 ],
 "metadata": {
  "kernelspec": {
   "display_name": "hoomd4",
   "language": "python",
   "name": "python3"
  },
  "language_info": {
   "codemirror_mode": {
    "name": "ipython",
    "version": 3
   },
   "file_extension": ".py",
   "mimetype": "text/x-python",
   "name": "python",
   "nbconvert_exporter": "python",
   "pygments_lexer": "ipython3",
   "version": "3.11.9"
  }
 },
 "nbformat": 4,
 "nbformat_minor": 2
}
