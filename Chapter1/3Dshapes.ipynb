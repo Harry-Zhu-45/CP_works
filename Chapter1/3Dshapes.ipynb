{
 "cells": [
  {
   "cell_type": "code",
   "execution_count": null,
   "id": "7a44c1a8",
   "metadata": {},
   "outputs": [],
   "source": [
    "from vpython import *\n",
    "from numpy import *\n",
    "\n",
    "\n",
    "scene = canvas(title=\"Elements 3D\")\n",
    "scene.width = 500\n",
    "scene.height = 500\n",
    "scene.range = 10\n",
    "\n",
    "\n",
    "sphere(pos=vector(0, 0, 0), radius=1, color=color.green)\n",
    "sphere(pos=(0, 1, -3), radius=1, color=color.red)\n",
    "arrow(pos=(3, 2, 2), axis=(3, 1, 1), color=color.cyan)\n",
    "cylinder(pos=(-3, -2, 3), axis=(6, -1, 5), color=color.yellow)\n",
    "cone(pos=vector(-6, -6, 0), axis=vector(-2, 1, -0.5), radius=2, color=color.magenta)\n",
    "helix(pos=(-5, 5, -2), axis=(5, 0, 0), radius=2, thickness=0.4, color=color.orange)\n",
    "ring(pos=(-6, 1, 0), axis=(1, 1, 1), radius=2, thickness=0.3, color=(0.3, 0.4, 0.6))\n",
    "box(pos=(5, -2, 2), length=5, width=5, height=0.4, color=(0.4, 0.8, 0.2))\n",
    "pyramid(pos=(2, 5, 2), size=(4, 3, 2), color=(0.7, 0.7, 0.2))\n",
    "ellipsoid(pos=(-1, -7, 1), axis=(2, 1, 3), length=4, height=2, width=5, color=(0.1, 0.9, 0.8))\n"
   ]
  }
 ],
 "metadata": {
  "kernelspec": {
   "display_name": "Python 3.9.13 ('CP_39')",
   "language": "python",
   "name": "python3"
  },
  "language_info": {
   "codemirror_mode": {
    "name": "ipython",
    "version": 3
   },
   "file_extension": ".py",
   "mimetype": "text/x-python",
   "name": "python",
   "nbconvert_exporter": "python",
   "pygments_lexer": "ipython3",
   "version": "3.9.13"
  },
  "vscode": {
   "interpreter": {
    "hash": "54138162965690a2a737bcfadfc96b28c50b8037099ed4be894d2f557985ce5f"
   }
  }
 },
 "nbformat": 4,
 "nbformat_minor": 5
}
