{
 "cells": [
  {
   "cell_type": "code",
   "execution_count": null,
   "id": "7a44c1a8",
   "metadata": {},
   "outputs": [],
   "source": [
    "from vpython import *\n",
    "from numpy import *\n",
    "\n",
    "\n",
    "scene = canvas(title=\"Elements 3D\")\n",
    "scene.width = 500\n",
    "scene.height = 500\n",
    "scene.range = 10\n",
    "\n",
    "\n",
    "sphere(pos=vector(0, 0, 0), radius=1, color=color.green)\n",
    "sphere(pos=vector(0, 1, -3), radius=1, color=color.red)\n",
    "arrow(pos=vector(3, 2, 2), axis=vector(3, 1, 1), color=color.cyan)\n",
    "cylinder(pos=vector(-3, -2, 3), axis=vector(6, -1, 5), color=color.yellow)\n",
    "cone(pos=vector(-6, -6, 0), axis=vector(-2, 1, -0.5), radius=2, color=color.magenta)\n",
    "helix(pos=vector(-5, 5, -2), axis=vector(5, 0, 0), radius=2, thickness=0.4, color=color.orange)\n",
    "ring(pos=vector(-6, 1, 0), axis=vector(1, 1, 1), radius=2, thickness=0.3, color=vector(0.3, 0.4, 0.6))\n",
    "box(pos=vector(5, -2, 2), length=5, width=5, height=0.4, color=vector(0.4, 0.8, 0.2))\n",
    "pyramid(pos=vector(2, 5, 2), size=vector(4, 3, 2), color=vector(0.7, 0.7, 0.2))\n",
    "ellipsoid(pos=vector(-1, -7, 1), axis=vector(2, 1, 3), length=4, height=2, width=5, color=vector(0.1, 0.9, 0.8))\n"
   ]
  }
 ],
 "metadata": {
  "kernelspec": {
   "display_name": "Python 3 (ipykernel)",
   "language": "python",
   "name": "python3"
  },
  "language_info": {
   "codemirror_mode": {
    "name": "ipython",
    "version": 3
   },
   "file_extension": ".py",
   "mimetype": "text/x-python",
   "name": "python",
   "nbconvert_exporter": "python",
   "pygments_lexer": "ipython3",
   "version": "3.10.7"
  },
  "vscode": {
   "interpreter": {
    "hash": "35f832ec50ff747b3993395278d5f2c146e5e1b37bdf2f1f8a4e165a452e2c27"
   }
  }
 },
 "nbformat": 4,
 "nbformat_minor": 5
}
