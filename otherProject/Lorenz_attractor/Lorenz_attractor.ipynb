{
 "cells": [
  {
   "cell_type": "markdown",
   "metadata": {},
   "source": [
    "# Lorenz attractor\n",
    "\n",
    "links:\n",
    "\n",
    "- [洛伦兹吸引子](https://zhuanlan.zhihu.com/p/32204557)\n"
   ]
  },
  {
   "cell_type": "code",
   "execution_count": null,
   "metadata": {},
   "outputs": [],
   "source": [
    "import numpy as np\n",
    "from scipy.integrate import odeint\n",
    "import matplotlib.pyplot as plt\n",
    "from mpl_toolkits.mplot3d import Axes3D\n",
    "\n",
    "\n",
    "def lorenz(w, t, p, r, b):\n",
    "    # 给出位置矢量w，和三个参数p, r, b计算出\n",
    "    # dx/dt, dy/dt, dz/dt的值\n",
    "    x, y, z = w\n",
    "    # 直接与lorenz的计算公式对应\n",
    "    return np.array([p*(y-x), x*(r-z)-y, x*y-b*z])\n",
    "\n",
    "\n",
    "t = np.arange(0, 30, 0.01)  # 创建时间点\n",
    "# 调用ode对lorenz进行求解, 用两个不同的初始值\n",
    "track1 = odeint(lorenz, (0.0, 1.00, 0.0), t, args=(10.0, 28.0, 3.0))\n",
    "track2 = odeint(lorenz, (0.0, 1.01, 0.0), t, args=(10.0, 28.0, 3.0))\n",
    "\n",
    "\n",
    "fig = plt.figure()\n",
    "ax = fig.add_subplot(111, projection='3d')\n",
    "ax.plot(track1[:, 0], track1[:, 1], track1[:, 2])\n",
    "ax.plot(track2[:, 0], track2[:, 1], track2[:, 2])\n",
    "plt.show()\n"
   ]
  },
  {
   "cell_type": "code",
   "execution_count": null,
   "metadata": {},
   "outputs": [],
   "source": [
    "from scipy.integrate import odeint\n",
    "import numpy as np\n",
    "from mayavi import mlab\n",
    "\n",
    "\n",
    "def lorenz(w, t, a, b, c):\n",
    "    # 给出位置矢量w，和三个参数a, b, c计算出\n",
    "    # dx/dt, dy/dt, dz/dt的值\n",
    "    x, y, z = w.tolist()\n",
    "    # 直接与lorenz的计算公式对应\n",
    "    return np.array([a * (y - x), x * (b - z) - y, x * y - c * z])\n",
    "\n",
    "\n",
    "t = np.arange(0, 30, 0.01)  # 创建时间点\n",
    "# 调用ode对lorenz进行求解, 用两个不同的初始值\n",
    "track1 = odeint(lorenz, (0.0, 1.00, 0.0), t, args=(10.0, 28.0, 3.0))\n",
    "track2 = odeint(lorenz, (0.0, 1.01, 0.0), t, args=(10.0, 28.0, 3.0))\n",
    "# 绘制图形\n",
    "mlab.plot3d(track1[:, 0], track1[:, 1], track1[:, 2], color=(1, 0, 0), tube_radius=0.1)\n",
    "mlab.plot3d(track2[:, 0], track2[:, 1], track2[:, 2], color=(0, 0, 1), tube_radius=0.1)\n"
   ]
  }
 ],
 "metadata": {
  "kernelspec": {
   "display_name": "Python 3.10.7 ('venv': venv)",
   "language": "python",
   "name": "python3"
  },
  "language_info": {
   "codemirror_mode": {
    "name": "ipython",
    "version": 3
   },
   "file_extension": ".py",
   "mimetype": "text/x-python",
   "name": "python",
   "nbconvert_exporter": "python",
   "pygments_lexer": "ipython3",
   "version": "3.10.7"
  },
  "orig_nbformat": 4,
  "vscode": {
   "interpreter": {
    "hash": "35f832ec50ff747b3993395278d5f2c146e5e1b37bdf2f1f8a4e165a452e2c27"
   }
  }
 },
 "nbformat": 4,
 "nbformat_minor": 2
}
