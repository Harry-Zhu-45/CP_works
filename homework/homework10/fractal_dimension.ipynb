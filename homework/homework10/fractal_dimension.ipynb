{
 "cells": [
  {
   "cell_type": "code",
   "execution_count": 3,
   "metadata": {},
   "outputs": [],
   "source": [
    "import imageio.v2 as iio\n",
    "import numpy as np\n",
    "\n",
    "\n",
    "def fractal_dimension(Z: np.ndarray, threshold=0.8) -> float:\n",
    "    \"\"\"\n",
    "    Returns the Minkowski-Bouligand dimension, i.e., box-counting dimension of a 2D array.\n",
    "\n",
    "    Input:\n",
    "        `Z`: 2D array to be analysed.\n",
    "        `threshold`: Cutoff for converting values in Z to 1 and 0.\n",
    "    Returns:\n",
    "        The estimated box counting dimension.\n",
    "    \"\"\"\n",
    "    assert (len(Z.shape) == 2)  # Only for 2d image\n",
    "\n",
    "    def boxcount(Z: np.ndarray, k) -> int:\n",
    "        S = np.add.reduceat(np.add.reduceat(Z, np.arange(0, Z.shape[0], k), axis=0), np.arange(0, Z.shape[1], k), axis=1)\n",
    "        # We count non-empty (0) and non-full boxes (k*k)\n",
    "        return len(np.where((S > 0) & (S < k*k))[0])\n",
    "\n",
    "    Z = (Z < threshold)  # Transform Z into a binary array\n",
    "\n",
    "    p = min(Z.shape)                        # Minimal dimension of image\n",
    "    n = int(np.floor(np.log(p)/np.log(2)))    # Greatest power of 2 less than or equal to p\n",
    "    sizes = 2**np.arange(n, 1, -1)          # Build successive box sizes (from 2**n down to 2**1)\n",
    "\n",
    "    counts = []  # Actual box counting with decreasing size\n",
    "    for size in sizes:\n",
    "        counts.append(boxcount(Z, size))\n",
    "\n",
    "    coeffs = np.polyfit(np.log(sizes), np.log(counts), 1)  # Fit the successive log(sizes) with log (counts)\n",
    "    return -coeffs[0]\n"
   ]
  },
  {
   "cell_type": "code",
   "execution_count": 4,
   "metadata": {},
   "outputs": [
    {
     "name": "stdout",
     "output_type": "stream",
     "text": [
      "Minkowski-Bouligand dimension (computed):  1.5855963935652113\n",
      "Haussdorf dimension (theoretical):         1.5849625007211563\n"
     ]
    }
   ],
   "source": [
    "I = iio.imread(\"./pic/sierpinski.png\", as_gray=\"True\") / 255.0  # Import the image in gray scale\n",
    "print(\"Minkowski-Bouligand dimension (computed): \", fractal_dimension(I))\n",
    "print(\"Haussdorf dimension (theoretical):        \", (np.log(3)/np.log(2)))\n"
   ]
  },
  {
   "cell_type": "code",
   "execution_count": 5,
   "metadata": {},
   "outputs": [
    {
     "name": "stdout",
     "output_type": "stream",
     "text": [
      "Minkowski-Bouligand dimension (computed):  1.2227381097255214\n"
     ]
    }
   ],
   "source": [
    "I = iio.imread(\"./pic/mandelbrot_set_binary.png\", as_gray=\"True\") / 255.0  # Import the image in greyscale\n",
    "print(\"Minkowski-Bouligand dimension (computed): \", fractal_dimension(I))\n"
   ]
  },
  {
   "cell_type": "code",
   "execution_count": 6,
   "metadata": {},
   "outputs": [
    {
     "name": "stdout",
     "output_type": "stream",
     "text": [
      "Minkowski-Bouligand dimension (computed):  1.4469893169898411\n"
     ]
    }
   ],
   "source": [
    "I = iio.imread(\"./pic/DLA_cluster_1000_without_frame.png\", as_gray=\"True\") / 255.0  # Import the image in greyscale\n",
    "print(\"Minkowski-Bouligand dimension (computed): \", fractal_dimension(I))\n"
   ]
  },
  {
   "cell_type": "code",
   "execution_count": 7,
   "metadata": {},
   "outputs": [
    {
     "name": "stdout",
     "output_type": "stream",
     "text": [
      "Minkowski-Bouligand dimension (computed):  1.8498916452191487\n",
      "Haussdorf dimension (theoretical):         1.892789260714372\n"
     ]
    }
   ],
   "source": [
    "I = iio.imread(\"./pic/sierpinski_carpet.png\", as_gray=\"True\") / 255.0  # Import the image in greyscale\n",
    "print(\"Minkowski-Bouligand dimension (computed): \", fractal_dimension(I))\n",
    "print(\"Haussdorf dimension (theoretical):        \", (np.log(8)/np.log(3)))\n"
   ]
  },
  {
   "cell_type": "code",
   "execution_count": 8,
   "metadata": {},
   "outputs": [
    {
     "name": "stdout",
     "output_type": "stream",
     "text": [
      "Minkowski-Bouligand dimension (computed):  1.174107183620272\n",
      "Haussdorf dimension (theoretical):         1.892789260714372\n"
     ]
    }
   ],
   "source": [
    "I = iio.imread(\"./pic/dragon_curve.png\", as_gray=\"True\") / 255.0  # Import the image in greyscale\n",
    "print(\"Minkowski-Bouligand dimension (computed): \", fractal_dimension(I))\n",
    "print(\"Haussdorf dimension (theoretical):        \", (np.log(8)/np.log(3)))\n"
   ]
  }
 ],
 "metadata": {
  "kernelspec": {
   "display_name": "venv",
   "language": "python",
   "name": "python3"
  },
  "language_info": {
   "codemirror_mode": {
    "name": "ipython",
    "version": 3
   },
   "file_extension": ".py",
   "mimetype": "text/x-python",
   "name": "python",
   "nbconvert_exporter": "python",
   "pygments_lexer": "ipython3",
   "version": "3.10.7"
  },
  "orig_nbformat": 4,
  "vscode": {
   "interpreter": {
    "hash": "35f832ec50ff747b3993395278d5f2c146e5e1b37bdf2f1f8a4e165a452e2c27"
   }
  }
 },
 "nbformat": 4,
 "nbformat_minor": 2
}
