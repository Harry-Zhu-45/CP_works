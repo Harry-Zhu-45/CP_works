{
 "cells": [
  {
   "cell_type": "code",
   "execution_count": null,
   "metadata": {},
   "outputs": [],
   "source": [
    "import numpy as np\n",
    "import matplotlib.pyplot as plt\n",
    "from matplotlib.animation import FuncAnimation\n",
    "\n",
    "\n",
    "X = [0]\n",
    "Y = [0]\n",
    "exist_set = set([(0, 0)])\n",
    "possible_set = set([\n",
    "    (1, 0),\n",
    "    (0, 1),\n",
    "    (-1, 0),\n",
    "    (0, -1)\n",
    "])\n",
    "\n",
    "\n",
    "def eden_cluster(n: int):\n",
    "    # init\n",
    "    global X, Y\n",
    "    X = [0]\n",
    "    Y = [0]\n",
    "    exist_set = set([(0, 0)])\n",
    "    possible_set = set([\n",
    "        (1, 0),\n",
    "        (0, 1),\n",
    "        (-1, 0),\n",
    "        (0, -1)\n",
    "    ])\n",
    "\n",
    "    # grow\n",
    "    for i in range(n-1):\n",
    "        possible_list = list(possible_set)\n",
    "        choice = possible_list[np.random.randint(len(possible_list))]\n",
    "        exist_set.add(choice)\n",
    "\n",
    "        nextx = choice[0]\n",
    "        nexty = choice[1]\n",
    "        X.append(nextx)\n",
    "        Y.append(nexty)\n",
    "\n",
    "        possible_set = set(possible_list)\n",
    "        possible_set.add((nextx+1, nexty))\n",
    "        possible_set.add((nextx, nexty+1))\n",
    "        possible_set.add((nextx-1, nexty))\n",
    "        possible_set.add((nextx, nexty-1))\n",
    "        possible_set = possible_set - exist_set\n",
    "\n",
    "\n",
    "def DLA_cluster(n: int):\n",
    "    # init\n",
    "    global X, Y\n",
    "    X = [0]\n",
    "    Y = [0]\n",
    "    exist_set = set([(0, 0)])\n",
    "    possible_set = set([\n",
    "        (1, 0),\n",
    "        (0, 1),\n",
    "        (-1, 0),\n",
    "        (0, -1)\n",
    "    ])\n",
    "\n",
    "    # grow\n",
    "    for i in range(n-1):\n",
    "        # random init point\n",
    "        direction = np.random.randint(4)  # choose area, 0: right, 1: up, 2: left, 3: down\n",
    "        if direction == 0:\n",
    "            random_x = np.random.randint(max(X)+1, max(X)+5)\n",
    "            random_y = np.random.randint(min(Y)-5, max(Y)+5)\n",
    "        elif direction == 1:\n",
    "            random_x = np.random.randint(min(X)-5, max(X)+5)\n",
    "            random_y = np.random.randint(max(Y)+1, max(Y)+5)\n",
    "        elif direction == 2:\n",
    "            random_x = np.random.randint(min(X)-5, min(X)-1)\n",
    "            random_y = np.random.randint(min(Y)-5, max(Y)+5)\n",
    "        else:\n",
    "            random_x = np.random.randint(min(X)-5, max(X)+5)\n",
    "            random_y = np.random.randint(min(Y)-5, min(Y)-1)\n",
    "\n",
    "        # random walk\n",
    "        while True:\n",
    "            if (random_x, random_y) in possible_set:\n",
    "                choice = (random_x, random_y)\n",
    "                exist_set.add(choice)\n",
    "                X.append(random_x)\n",
    "                Y.append(random_y)\n",
    "\n",
    "                possible_set.add((random_x+1, random_y))\n",
    "                possible_set.add((random_x, random_y+1))\n",
    "                possible_set.add((random_x-1, random_y))\n",
    "                possible_set.add((random_x, random_y-1))\n",
    "                possible_set = possible_set - exist_set\n",
    "                break\n",
    "            else:\n",
    "                direction = np.random.random()\n",
    "                if direction < 0.5:\n",
    "                    random_x += np.random.choice([-1, 1])\n",
    "                else:\n",
    "                    random_y += np.random.choice([-1, 1])\n",
    "\n",
    "            # if random walk out of range, walk along the edge\n",
    "            if random_x > i+2:\n",
    "                random_x = i+2\n",
    "            if random_x < -i-2:\n",
    "                random_x = -i-2\n",
    "            if random_y > i+2:\n",
    "                random_y = i+2\n",
    "            if random_y < -i-2:\n",
    "                random_y = -i-2\n"
   ]
  },
  {
   "cell_type": "code",
   "execution_count": null,
   "metadata": {},
   "outputs": [],
   "source": [
    "# # eden cluster\n",
    "# num = 2000\n",
    "# eden_cluster(num)\n",
    "\n",
    "\n",
    "# # plot\n",
    "# fig, ax = plt.subplots()\n",
    "# ax.set_xlabel('x')\n",
    "# ax.set_ylabel('y')\n",
    "# ax.set_title('Eden Cluster (n=%d)' % num)\n",
    "\n",
    "# ax.set_aspect('equal')\n",
    "# ax.scatter(X, Y, s=20/np.sqrt(len(X)), c='g')\n",
    "# ax.set_xlim(min(X)-1, max(X)+1)\n",
    "# ax.set_ylim(min(Y)-1, max(Y)+1)\n",
    "# plt.show()\n"
   ]
  },
  {
   "cell_type": "code",
   "execution_count": null,
   "metadata": {},
   "outputs": [],
   "source": [
    "# DLA cluster\n",
    "num = 1000\n",
    "# DLA_cluster(num)\n",
    "\n",
    "\n",
    "# plot\n",
    "fig, ax = plt.subplots()\n",
    "ax.set_title('DLA Cluster (n=%d)' % num)\n",
    "ax.set_xlabel('x')\n",
    "ax.set_ylabel('y')\n",
    "ax.set_xlim(min(X)-2, max(X)+2)\n",
    "ax.set_ylim(min(Y)-2, max(Y)+2)\n",
    "ax.set_aspect('equal')\n",
    "\n",
    "ax.scatter(X, Y, s=20/np.sqrt(num), c='g')\n",
    "\n",
    "plt.tight_layout()\n",
    "plt.show()\n"
   ]
  },
  {
   "cell_type": "code",
   "execution_count": null,
   "metadata": {},
   "outputs": [],
   "source": [
    "# save DLA_cluster_1000 data to txt file\n",
    "np.savetxt('DLA_cluster_1000.txt', np.array([X, Y]).T, fmt='%d')\n"
   ]
  },
  {
   "cell_type": "code",
   "execution_count": null,
   "metadata": {},
   "outputs": [],
   "source": [
    "# FuncAnimation\n",
    "fig, ax = plt.subplots()\n",
    "ax.set_xlabel('x')\n",
    "ax.set_ylabel('y')\n",
    "ax.set_aspect('equal')\n",
    "ax.set_xlim(min(X)-2, max(X)+2)\n",
    "ax.set_ylim(min(Y)-2, max(Y)+2)\n",
    "\n",
    "scat = ax.scatter(0, 0, s=20/np.sqrt(num), c='g')\n",
    "\n",
    "\n",
    "def update(i):\n",
    "    ax.set_title('DLA Cluster (n=%d)' % i)\n",
    "    ax.scatter(X[:i], Y[:i], s=20/np.sqrt(num), c='g')\n",
    "    return scat\n",
    "\n",
    "\n",
    "ani = FuncAnimation(fig=fig, func=update, frames=500, interval=20)\n",
    "ani.save('DLA_cluster.gif', writer='pillow', fps=60)\n"
   ]
  },
  {
   "cell_type": "code",
   "execution_count": 10,
   "metadata": {},
   "outputs": [
    {
     "data": {
      "image/png": "[encoded data removed]",
      "text/plain": [
       "<Figure size 640x480 with 1 Axes>"
      ]
     },
     "metadata": {},
     "output_type": "display_data"
    }
   ],
   "source": [
    "def iterate(sequence: str) -> str:\n",
    "    sequence = sequence + 'R' + swapLetters(sequence[::-1])\n",
    "    return sequence\n",
    "\n",
    "\n",
    "def swapLetters(sequence: str) -> str:\n",
    "    newSequence = \"\"\n",
    "    for letter in sequence:\n",
    "        if letter == 'R':\n",
    "            newSequence = newSequence + 'L'\n",
    "        else:\n",
    "            newSequence = newSequence + 'R'\n",
    "    return newSequence\n",
    "\n",
    "\n",
    "def dragon(n_iterations: int) -> str:\n",
    "    \"\"\"Takes in a number n, an return the dragon curve sequence i.e.:\n",
    "    When n=2, returns \"RRL\"\n",
    "    Args:\n",
    "        n_iterations (int): number of iterations of the dragon curve\n",
    "    Returns:\n",
    "        str: The dragon curve Sequence\n",
    "    \"\"\"\n",
    "    initial_sequence = 'R'\n",
    "    for i in range(0, n_iterations):\n",
    "        initial_sequence = iterate(initial_sequence)\n",
    "    return initial_sequence\n",
    "\n",
    "\n",
    "theta = 0\n",
    "iter_num = 20\n",
    "l = 1 / (iter_num ** 2 + 1)\n",
    "X = [0, l]\n",
    "Y = [0, 0]\n",
    "\n",
    "for element in dragon(iter_num):\n",
    "    if element == 'R':\n",
    "        theta += np.pi / 3\n",
    "        X.append(X[-1] + l*np.cos(theta))\n",
    "        Y.append(Y[-1] + l*np.sin(theta))\n",
    "    else:\n",
    "        theta -= np.pi / 3\n",
    "        X.append(X[-1] + l*np.cos(theta))\n",
    "        Y.append(Y[-1] + l*np.sin(theta))\n",
    "\n",
    "\n",
    "# plot\n",
    "fig, ax = plt.subplots()\n",
    "ax.set_aspect('equal')\n",
    "ax.axis(\"off\")\n",
    "\n",
    "\n",
    "ax.plot(X, Y, lw=4/iter_num)\n",
    "\n",
    "\n",
    "plt.tight_layout()\n",
    "plt.savefig('./pic/dragon_curve.png')\n",
    "\n",
    "plt.show()\n"
   ]
  },
  {
   "cell_type": "code",
   "execution_count": null,
   "metadata": {},
   "outputs": [],
   "source": [
    "np.warnings.filterwarnings(\"ignore\")\n",
    "\n",
    "\n",
    "def complex_matrix(xmin, xmax, ymin, ymax, pixel_density):\n",
    "    re = np.linspace(xmin, xmax, int((xmax - xmin) * pixel_density))\n",
    "    im = np.linspace(ymin, ymax, int((ymax - ymin) * pixel_density))\n",
    "    return re[np.newaxis, :] + im[:, np.newaxis] * 1j\n",
    "\n",
    "\n",
    "def is_stable(c, num_iterations):\n",
    "    z = 0\n",
    "    for _ in range(num_iterations):\n",
    "        z = z ** 2 + c\n",
    "    return abs(z) <= 2\n",
    "\n",
    "\n",
    "def get_members(c, num_iterations):\n",
    "    mask = is_stable(c, num_iterations)\n",
    "    return c[mask]\n",
    "\n",
    "\n",
    "c = complex_matrix(-2, 0.5, -1.5, 1.5, pixel_density=512)\n",
    "members = get_members(c, num_iterations=20)\n",
    "\n",
    "fig, ax = plt.subplots()\n",
    "# ax.set_title('Mandelbrot Set')\n",
    "ax.imshow(is_stable(c, num_iterations=20), cmap='binary')\n",
    "ax.set_aspect(\"equal\")\n",
    "ax.axis(\"off\")\n",
    "plt.tight_layout()\n",
    "plt.show()\n"
   ]
  },
  {
   "cell_type": "code",
   "execution_count": 12,
   "metadata": {},
   "outputs": [
    {
     "name": "stdout",
     "output_type": "stream",
     "text": [
      "Minkowski-Bouligand dimension (computed):  1.5855963935652113\n",
      "Haussdorf dimension (theoretical):         1.5849625007211563\n"
     ]
    }
   ],
   "source": [
    "import imageio.v2 as iio\n",
    "import numpy as np\n",
    "\n",
    "\n",
    "def fractal_dimension(Z: np.ndarray, threshold=0.8) -> float:\n",
    "    \"\"\"\n",
    "    Returns the Minkowski-Bouligand dimension, i.e., box-counting dimension of a 2D array.\n",
    "\n",
    "    Input:\n",
    "        `Z`: 2D array to be analysed.\n",
    "        `threshold`: Cutoff for converting values in Z to 1 and 0.\n",
    "    Returns:\n",
    "        The estimated box counting dimension.\n",
    "    \"\"\"\n",
    "    assert (len(Z.shape) == 2)  # Only for 2d image\n",
    "\n",
    "    def boxcount(Z: np.ndarray, k) -> int:\n",
    "        S = np.add.reduceat(np.add.reduceat(Z, np.arange(0, Z.shape[0], k), axis=0), np.arange(0, Z.shape[1], k), axis=1)\n",
    "        # We count non-empty (0) and non-full boxes (k*k)\n",
    "        return len(np.where((S > 0) & (S < k*k))[0])\n",
    "\n",
    "    Z = (Z < threshold)  # Transform Z into a binary array\n",
    "\n",
    "    p = min(Z.shape)                        # Minimal dimension of image\n",
    "    n = int(np.floor(np.log(p)/np.log(2)))    # Greatest power of 2 less than or equal to p\n",
    "    sizes = 2**np.arange(n, 1, -1)          # Build successive box sizes (from 2**n down to 2**1)\n",
    "\n",
    "    counts = []  # Actual box counting with decreasing size\n",
    "    for size in sizes:\n",
    "        counts.append(boxcount(Z, size))\n",
    "\n",
    "    coeffs = np.polyfit(np.log(sizes), np.log(counts), 1)  # Fit the successive log(sizes) with log (counts)\n",
    "    return -coeffs[0]\n",
    "\n",
    "\n",
    "I = iio.imread(\"./pic/sierpinski.png\", as_gray=\"True\") / 255.0  # Import the image in gray scale\n",
    "print(\"Minkowski-Bouligand dimension (computed): \", fractal_dimension(I))\n",
    "print(\"Haussdorf dimension (theoretical):        \", (np.log(3)/np.log(2)))\n"
   ]
  },
  {
   "cell_type": "code",
   "execution_count": 13,
   "metadata": {},
   "outputs": [
    {
     "name": "stdout",
     "output_type": "stream",
     "text": [
      "Minkowski-Bouligand dimension (computed):  1.2227381097255214\n"
     ]
    }
   ],
   "source": [
    "I = iio.imread(\"./pic/mandelbrot_set_binary.png\", as_gray=\"True\") / 255.0  # Import the image in greyscale\n",
    "print(\"Minkowski-Bouligand dimension (computed): \", fractal_dimension(I))\n"
   ]
  },
  {
   "cell_type": "code",
   "execution_count": 14,
   "metadata": {},
   "outputs": [
    {
     "name": "stdout",
     "output_type": "stream",
     "text": [
      "Minkowski-Bouligand dimension (computed):  1.4469893169898411\n"
     ]
    }
   ],
   "source": [
    "I = iio.imread(\"./pic/DLA_cluster_1000_without_frame.png\", as_gray=\"True\") / 255.0  # Import the image in greyscale\n",
    "print(\"Minkowski-Bouligand dimension (computed): \", fractal_dimension(I))\n"
   ]
  },
  {
   "cell_type": "code",
   "execution_count": 15,
   "metadata": {},
   "outputs": [
    {
     "name": "stdout",
     "output_type": "stream",
     "text": [
      "Minkowski-Bouligand dimension (computed):  1.8498916452191487\n",
      "Haussdorf dimension (theoretical):         1.892789260714372\n"
     ]
    }
   ],
   "source": [
    "I = iio.imread(\"./pic/sierpinski_carpet.png\", as_gray=\"True\") / 255.0  # Import the image in greyscale\n",
    "print(\"Minkowski-Bouligand dimension (computed): \", fractal_dimension(I))\n",
    "print(\"Haussdorf dimension (theoretical):        \", (np.log(8)/np.log(3)))\n"
   ]
  },
  {
   "cell_type": "code",
   "execution_count": 16,
   "metadata": {},
   "outputs": [
    {
     "name": "stdout",
     "output_type": "stream",
     "text": [
      "Minkowski-Bouligand dimension (computed):  1.2046153917741886\n",
      "Haussdorf dimension (theoretical):         1.892789260714372\n"
     ]
    }
   ],
   "source": [
    "I = iio.imread(\"./pic/dragon_curve.png\", as_gray=\"True\") / 255.0  # Import the image in greyscale\n",
    "print(\"Minkowski-Bouligand dimension (computed): \", fractal_dimension(I))\n",
    "print(\"Haussdorf dimension (theoretical):        \", (np.log(8)/np.log(3)))\n"
   ]
  }
 ],
 "metadata": {
  "kernelspec": {
   "display_name": "Python 3.10.7 ('venv': venv)",
   "language": "python",
   "name": "python3"
  },
  "language_info": {
   "codemirror_mode": {
    "name": "ipython",
    "version": 3
   },
   "file_extension": ".py",
   "mimetype": "text/x-python",
   "name": "python",
   "nbconvert_exporter": "python",
   "pygments_lexer": "ipython3",
   "version": "3.10.7"
  },
  "vscode": {
   "interpreter": {
    "hash": "35f832ec50ff747b3993395278d5f2c146e5e1b37bdf2f1f8a4e165a452e2c27"
   }
  }
 },
 "nbformat": 4,
 "nbformat_minor": 2
}
