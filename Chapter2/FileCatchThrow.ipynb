{
 "cells": [
  {
   "cell_type": "code",
   "execution_count": 3,
   "id": "0a6808c4",
   "metadata": {},
   "outputs": [
    {
     "ename": "SyntaxError",
     "evalue": "invalid syntax (3146441796.py, line 24)",
     "output_type": "error",
     "traceback": [
      "\u001b[0;36m  Input \u001b[0;32mIn [3]\u001b[0;36m\u001b[0m\n\u001b[0;31m    catch(IOException ex){ex.printStackTrace(); }   # Catch\u001b[0m\n\u001b[0m                      ^\u001b[0m\n\u001b[0;31mSyntaxError\u001b[0m\u001b[0;31m:\u001b[0m invalid syntax\n"
     ]
    }
   ],
   "source": [
    "import sys\n",
    "from math import pi\n",
    "from sys import version\n",
    "\n",
    "\n",
    "if int(version[0])>2:      #raw_input deprecated in Python 3\n",
    "    raw_input=input  \n",
    "\n",
    "    \n",
    "r = 2\n",
    "circum = 2.* pi* r                        # Calculate circum\n",
    "A = pi*r**2                               # Calculate A\n",
    "\n",
    "try: \n",
    "    q = open(\"ThrowCatch.dat\",'w')    #intentional mistake 'r', but run with it\n",
    "                                      #change 'r' by 'w' and run again\n",
    "except  IOError:\n",
    "    print ('Cannot open file')\n",
    "else:     \n",
    "    q.write(\"r = %9.6f, length = %9.6f, A= %9.6f \"%(r, circum, A))\n",
    "        \n",
    "    q.close()\n",
    "    print ('output in ThrowCatch.dat')\n",
    "    # catch(IOException ex){ex.printStackTrace(); }   # Catch\n"
   ]
  }
 ],
 "metadata": {
  "kernelspec": {
   "display_name": "Python 3 (ipykernel)",
   "language": "python",
   "name": "python3"
  },
  "language_info": {
   "codemirror_mode": {
    "name": "ipython",
    "version": 3
   },
   "file_extension": ".py",
   "mimetype": "text/x-python",
   "name": "python",
   "nbconvert_exporter": "python",
   "pygments_lexer": "ipython3",
   "version": "3.9.13"
  }
 },
 "nbformat": 4,
 "nbformat_minor": 5
}
