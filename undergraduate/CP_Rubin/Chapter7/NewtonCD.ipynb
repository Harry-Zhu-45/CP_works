{
 "cells": [
  {
   "cell_type": "code",
   "execution_count": 36,
   "metadata": {},
   "outputs": [
    {
     "name": "stdout",
     "output_type": "stream",
     "text": [
      "Iteration = 0  x = 4.0  f(x) =  -5.307287241727224\n",
      "Iteration = 1  x = 14.448745494692592  f(x) =  -15.061868625229513\n",
      "Iteration = 2  x = -7.625250260248979  f(x) =  8.078734503529564\n",
      "Iteration = 3  x = -0.7575501145852463  f(x) =  2.2105933394719686\n",
      "Iteration = 4  x = 1.2244963162883145  f(x) =  -0.5456567180917221\n",
      "Iteration = 5  x = 1.013663545694694  f(x) =  0.04384595822041604\n",
      "\n",
      "Root found, F = -0.00018993106772713375  , tolerance eps = 0.001\n"
     ]
    }
   ],
   "source": [
    "import numpy as np\n",
    "\n",
    "\n",
    "def f(x):\n",
    "    return 2 * np.cos(x) - x\n",
    "\n",
    "\n",
    "x = 4.\n",
    "dx = 3.e-1\n",
    "eps = 1e-3\n",
    "imax = 100  # Max no of iterations\n",
    "\n",
    "for it in range(0, imax + 1):\n",
    "    F = f(x)\n",
    "    if (abs(F) <= eps):  # Check for convergence\n",
    "        print(\"\\nRoot found, F =\", F, \" , tolerance eps =\", eps)\n",
    "        break\n",
    "\n",
    "    print(\"Iteration =\", it, \" x =\", x, \" f(x) = \", F)\n",
    "\n",
    "    df = (f(x+dx/2.) - f(x-dx/2.)) / dx  # Central difference\n",
    "    dx = - F / df\n",
    "    x += dx  # New guess\n"
   ]
  }
 ],
 "metadata": {
  "kernelspec": {
   "display_name": "Python 3.10.7 ('venv': venv)",
   "language": "python",
   "name": "python3"
  },
  "language_info": {
   "codemirror_mode": {
    "name": "ipython",
    "version": 3
   },
   "file_extension": ".py",
   "mimetype": "text/x-python",
   "name": "python",
   "nbconvert_exporter": "python",
   "pygments_lexer": "ipython3",
   "version": "3.10.7"
  },
  "orig_nbformat": 4,
  "vscode": {
   "interpreter": {
    "hash": "35f832ec50ff747b3993395278d5f2c146e5e1b37bdf2f1f8a4e165a452e2c27"
   }
  }
 },
 "nbformat": 4,
 "nbformat_minor": 2
}
