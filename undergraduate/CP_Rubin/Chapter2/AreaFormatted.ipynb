{
 "cells": [
  {
   "cell_type": "code",
   "execution_count": null,
   "metadata": {},
   "outputs": [],
   "source": [
    "import math\n",
    "\n",
    "\n",
    "name = input('Key in your name :')  # input good for strings\n",
    "print('Hi ', name)\n",
    "\n",
    "radius = eval(input('Enter a radius: '))  # OK for numbers\n",
    "print('you entered radius= %8.5f' % radius)  # formatted output\n",
    "\n",
    "name = input('Key in another name: ')  # input OK for strings\n",
    "radius = eval(input('Enter a radius'))\n",
    "\n",
    "print('Enter new Name and r in file Name.dat')\n",
    "\n",
    "inpfile = open('Name.dat', 'r')  # to read from file Name.dat\n",
    "\n",
    "for line in inpfile:\n",
    "    line = line.split()  # splits components of line\n",
    "    name = line[0]  # first entry in the list\n",
    "    print(\"Hi %10s\" % (name))  # print Hi plus first entry\n",
    "    r = float(line[1])  # second entry convert to float (it is a string)\n",
    "    print(\"r = %13.5f\" % (r))  # converts x to float and print it\n",
    "\n",
    "inpfile.close()\n",
    "\n",
    "A = math.pi * r**2  # use radius to find circles's area\n",
    "print(\"Done, look in A.dat\\n\")\n",
    "\n",
    "outfile = open('A.dat', 'w')\n",
    "outfile.write('r = %13.5f\\n' % (r))\n",
    "outfile.write('A = %13.5f\\n' % (A))\n",
    "outfile.close()\n",
    "\n",
    "print('r = %13.5f' % (r))\n",
    "print('A = %13.5f' % (A))\n",
    "print('Now example of integer input ')\n",
    "\n",
    "age = int(eval(input('Now key in your age as an integer:  ')))\n",
    "print(\"age: %4d  years old,  you don't look it!\\n\" % (age))"
   ]
  }
 ],
 "metadata": {
  "kernelspec": {
   "display_name": "Python 3 (ipykernel)",
   "language": "python",
   "name": "python3"
  },
  "language_info": {
   "codemirror_mode": {
    "name": "ipython",
    "version": 3
   },
   "file_extension": ".py",
   "mimetype": "text/x-python",
   "name": "python",
   "nbconvert_exporter": "python",
   "pygments_lexer": "ipython3",
   "version": "3.11.9"
  },
  "vscode": {
   "interpreter": {
    "hash": "54138162965690a2a737bcfadfc96b28c50b8037099ed4be894d2f557985ce5f"
   }
  }
 },
 "nbformat": 4,
 "nbformat_minor": 2
}
