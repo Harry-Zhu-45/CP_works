{
 "cells": [
  {
   "cell_type": "code",
   "execution_count": null,
   "metadata": {},
   "outputs": [],
   "source": [
    "\"\"\"\n",
    "Simple graph object using Vpython\n",
    "\"\"\"\n",
    "import vpython as vp\n",
    "\n",
    "\n",
    "Plot1 = vp.gcurve(color=vp.color.white)  # curve\n",
    "for x in vp.arange(0, 8.1, 0.1):  # x range\n",
    "    Plot1.plot(pos=(x, 5 * vp.cos(2*x) * vp.exp(-0.4*x)))  # Plot pts\n",
    "\n",
    "\n",
    "graph1 = vp.canvas(width=600, height=450, title='Visual 2D Plot', xtitle='x', ytitle='f(x)')  # canvas\n",
    "Plot2 = vp.gdots(color=vp.color.black)  # Dots\n",
    "\n",
    "for x in vp.arange(-5, 5, 0.1):\n",
    "    Plot2.plot(pos=(x, vp.cos(x)))\n"
   ]
  }
 ],
 "metadata": {
  "kernelspec": {
   "display_name": "Python 3 (ipykernel)",
   "language": "python",
   "name": "python3"
  },
  "language_info": {
   "codemirror_mode": {
    "name": "ipython",
    "version": 3
   },
   "file_extension": ".py",
   "mimetype": "text/x-python",
   "name": "python",
   "nbconvert_exporter": "python",
   "pygments_lexer": "ipython3",
   "version": "3.10.7 (tags/v3.10.7:6cc6b13, Sep  5 2022, 14:08:36) [MSC v.1933 64 bit (AMD64)]"
  },
  "vscode": {
   "interpreter": {
    "hash": "35f832ec50ff747b3993395278d5f2c146e5e1b37bdf2f1f8a4e165a452e2c27"
   }
  }
 },
 "nbformat": 4,
 "nbformat_minor": 2
}
