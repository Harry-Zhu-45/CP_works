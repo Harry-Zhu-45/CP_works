{
 "cells": [
  {
   "cell_type": "code",
   "execution_count": null,
   "metadata": {},
   "outputs": [],
   "source": [
    "import numpy as np\n",
    "from vpython import *\n",
    "\n",
    "\n",
    "scene = canvas(title=\"Rainbow Arrows\")\n",
    "scene.width = 500\n",
    "scene.height = 500\n",
    "scene.range = 30\n",
    "\n",
    "\n",
    "n = 20  # the number of arrows\n",
    "for i in range(n):\n",
    "    for j in range(n):\n",
    "        for k in range(n):\n",
    "            # colorful vector field\n",
    "            # the color of the arrow is determined by its direction\n",
    "            arrow(pos=vector(i-n/2, j-n/2, k-n/2), axis=vector(i/n-1/2, j/n-1/2, k/n-1/2), color=vector(i/n, j/n, k/n))     # 远离原点\n",
    "            arrow(pos=vector(i-n/2, j-n/2, k-n/2), axis=-vector(i/n-1/2, j/n-1/2, k/n-1/2), color=vector(i/n, j/n, k/n))    # 指向原点\n"
   ]
  }
 ],
 "metadata": {
  "kernelspec": {
   "display_name": "Python 3.10.7 ('venv': venv)",
   "language": "python",
   "name": "python3"
  },
  "language_info": {
   "name": "python",
   "version": "3.10.7"
  },
  "orig_nbformat": 4,
  "vscode": {
   "interpreter": {
    "hash": "35f832ec50ff747b3993395278d5f2c146e5e1b37bdf2f1f8a4e165a452e2c27"
   }
  }
 },
 "nbformat": 4,
 "nbformat_minor": 2
}
