{
 "cells": [
  {
   "cell_type": "code",
   "execution_count": 2,
   "metadata": {},
   "outputs": [
    {
     "data": {
      "text/html": [
       "<div id=\"glowscript\" class=\"glowscript\"></div>"
      ],
      "text/plain": [
       "<IPython.core.display.HTML object>"
      ]
     },
     "metadata": {},
     "output_type": "display_data"
    },
    {
     "data": {
      "application/javascript": "if (typeof Jupyter !== \"undefined\") { window.__context = { glowscript_container: $(\"#glowscript\").removeAttr(\"id\")};}else{ element.textContent = ' ';}",
      "text/plain": [
       "<IPython.core.display.Javascript object>"
      ]
     },
     "metadata": {},
     "output_type": "display_data"
    },
    {
     "data": {
      "text/html": [
       "<div id=\"glowscript\" class=\"glowscript\"></div>"
      ],
      "text/plain": [
       "<IPython.core.display.HTML object>"
      ]
     },
     "metadata": {},
     "output_type": "display_data"
    },
    {
     "data": {
      "application/javascript": "if (typeof Jupyter !== \"undefined\") { window.__context = { glowscript_container: $(\"#glowscript\").removeAttr(\"id\")};}else{ element.textContent = ' ';}",
      "text/plain": [
       "<IPython.core.display.Javascript object>"
      ]
     },
     "metadata": {},
     "output_type": "display_data"
    },
    {
     "name": "stdout",
     "output_type": "stream",
     "text": [
      "k     t       Y numerical     Y exact \n",
      "0 1.0\n",
      "1 0.9432392120361328\n",
      "2 0.8974907520860143\n",
      "0 1.0\n",
      "1 0.9432392120361328\n",
      "2 0.8974907520860143\n",
      "0 1.0\n",
      "1 0.9432392120361328\n",
      "2 0.8974907520860143\n",
      "  0 0.000 1.00000000000 1.00000000000 \n",
      "  1 0.125 0.94323921204 0.94323918844 \n",
      "  2 0.250 0.89749075209 0.89749070775 \n",
      "  3 0.375 0.86208741701 0.86208735454 \n",
      "  4 0.500 0.83640232328 0.83640234921 \n",
      "  5 0.625 0.81984678392 0.81984688684 \n",
      "  6 0.750 0.81186766577 0.81186783637 \n",
      "  7 0.875 0.81194534953 0.81194557928 \n",
      "  8 1.000 0.81959169802 0.81959197914 \n",
      "  9 1.125 0.83434814878 0.83434847419 \n",
      " 10 1.250 0.85578392225 0.85578428556 \n",
      " 11 1.375 0.88349433850 0.88349473391 \n",
      " 12 1.500 0.91709923593 0.91709965822 \n",
      " 13 1.625 0.95624148577 0.95624193024 \n",
      " 14 1.750 1.00058559663 1.00058605904 \n",
      " 15 1.875 1.04981640349 1.04981688003 \n",
      " 16 2.000 1.10363783625 1.10363832351 \n",
      " 17 2.125 1.16177176279 1.16177225773 \n",
      " 18 2.250 1.22395690218 1.22395740208 \n",
      " 19 2.375 1.28994780370 1.28994830613 \n",
      " 20 2.500 1.35951388775 1.35951439058 \n",
      " 21 2.625 1.43243854486 1.43243904619 \n",
      " 22 2.750 1.50851828924 1.50851878741 \n",
      " 23 2.875 1.58756196373 1.58756245729 \n",
      " 24 3.000 1.66938999278 1.66939048045 \n"
     ]
    }
   ],
   "source": [
    "# ABM.py: Adams BM method to integrate ODE\n",
    "# Solves y' = (t - y ) /2 , with y [0] = 1 over [0 , 3]\n",
    "import numpy as np\n",
    "from vpython import *\n",
    "\n",
    "\n",
    "numgr = canvas(x=0, y=0, width=600, height=300, xmin=0.0, xmax=3.0, title=\"Numerical Solution\", xtitle='t', ytitle='y', ymax=2.0, ymin=0.9)\n",
    "numsol = gcurve(color=color.yellow, graph=numgr)\n",
    "\n",
    "exactgr = canvas(x=0, y=300, width=600, height=300, title=\"Exact solution\", xtitle='t', ytitle='y', xmax=3.0, xmin=0.0, ymax=2.0, ymin=0.9)\n",
    "exsol = gcurve(color=color.cyan, graph=exactgr)\n",
    "\n",
    "n = 24  # N steps > 3\n",
    "A = 0\n",
    "B = 3.\n",
    "t = [0]*500\n",
    "y = [0]*500\n",
    "yy = [0]*4\n",
    "\n",
    "\n",
    "def f(t, y):  # RHS F function\n",
    "    return (t - y) / 2.0\n",
    "\n",
    "\n",
    "def rk4(t, yy, h1):\n",
    "    for i in range(0, 3):\n",
    "        t = h1 * i\n",
    "        k0 = h1 * f(t, y[i])\n",
    "        k1 = h1 * f(t + h1 / 2., yy[i] + k0 / 2.)\n",
    "        k2 = h1 * f(t + h1 / 2., yy[i] + k1 / 2.)\n",
    "        k3 = h1 * f(t + h1, yy[i] + k2)\n",
    "        yy[i + 1] = yy[i] + (1. / 6.) * (k0 + 2. * k1 + 2. * k2 + k3)\n",
    "        print(i, yy[i])\n",
    "    return yy[3]\n",
    "\n",
    "\n",
    "def ABM(a, b, N):\n",
    "    # Compute 3 additional starting values using rk\n",
    "    h = (b-a) / N  # step\n",
    "    t[0] = a\n",
    "    y[0] = 1.00\n",
    "    F0 = f(t[0], y[0])\n",
    "    for k in range(1, 4):\n",
    "        t[k] = a + k * h\n",
    "    y[1] = rk4(t[1], y, h)  # 1st step\n",
    "    y[2] = rk4(t[2], y, h)  # 2nd step\n",
    "    y[3] = rk4(t[3], y, h)  # 3rd step\n",
    "    F1 = f(t[1], y[1])\n",
    "    F2 = f(t[2], y[2])\n",
    "    F3 = f(t[3], y[3])\n",
    "    h2 = h / 24.\n",
    "\n",
    "    for k in range(3, N):  # Predictor\n",
    "        p = y[k] + h2 * (-9. * F0 + 37. * F1 - 59. * F2 + 55. * F3)\n",
    "        t[k + 1] = a + h*(k+1)  # Next abscissa\n",
    "        F4 = f(t[k+1], p)\n",
    "        y[k+1] = y[k] + h2 * (F1 - 5. * F2 + 19. * F3 + 9. * F4)  # Corrector\n",
    "        F0 = F1  # Update values\n",
    "        F1 = F2\n",
    "        F2 = F3\n",
    "        F3 = f(t[k + 1], y[k + 1])\n",
    "    return t, y\n",
    "\n",
    "\n",
    "print(\"k     t       Y numerical     Y exact \")\n",
    "t, y = ABM(A, B, n)\n",
    "for k in range(0, n+1):\n",
    "    print(\"%3d %5.3f %12.11f %12.11f \" % (k, t[k], y[k], (3. * exp(- t[k] / 2.) - 2. + t[k])))\n",
    "    numsol.plot(pos=(t[k], y[k]))\n",
    "    exsol.plot(pos=(t[k], 3. * exp(- t[k] / 2.) - 2. + t[k]))\n"
   ]
  }
 ],
 "metadata": {
  "kernelspec": {
   "display_name": "Python 3 (ipykernel)",
   "language": "python",
   "name": "python3"
  },
  "language_info": {
   "codemirror_mode": {
    "name": "ipython",
    "version": 3
   },
   "file_extension": ".py",
   "mimetype": "text/x-python",
   "name": "python",
   "nbconvert_exporter": "python",
   "pygments_lexer": "ipython3",
   "version": "3.10.7"
  },
  "vscode": {
   "interpreter": {
    "hash": "35f832ec50ff747b3993395278d5f2c146e5e1b37bdf2f1f8a4e165a452e2c27"
   }
  }
 },
 "nbformat": 4,
 "nbformat_minor": 2
}
