{
 "cells": [
  {
   "cell_type": "code",
   "execution_count": null,
   "metadata": {},
   "outputs": [],
   "source": [
    "import numpy as np\n",
    "import matplotlib.pyplot as plt\n",
    "\n",
    "\n",
    "N = 100                                             # points\n",
    "x1 = np.arange(0, 2*np.pi+2*np.pi/N, 2*np.pi/N)     # x values\n",
    "fig, ax = plt.subplots()\n",
    "y1 = x1*np.sin(x1)**2                               # integrand\n",
    "ax.plot(x1, y1, 'c', lw=4)                          # integrand in cyan\n",
    "ax.set_xlim((0, 2*np.pi))                           # limits x axis\n",
    "ax.set_ylim((0, 5))                                 # for y axis\n",
    "ax.set_xticks([0, np.pi, 2*np.pi])                  # set 3 x axis tics\n",
    "ax.set_xticklabels(['0', '$\\pi$', '2$\\pi$'])        # name 3 tics\n",
    "ax.set_xlabel('x', fontsize=20)\n",
    "ax.set_ylabel('$f(x)=x\\,\\sin^2(x)$', fontsize=20)\n",
    "fig.patch.set_visible(False)\n",
    "\n",
    "\n",
    "xi = []\n",
    "yi = []\n",
    "xo = []\n",
    "yo = []                                             # Inner & outer pts\n",
    "\n",
    "\n",
    "def fx(x):                                          # integrand\n",
    "    return x*np.sin(x)**2\n",
    "\n",
    "\n",
    "j = 0                                               # counter for inside\n",
    "Npts = 3000\n",
    "analyt = np.pi**2                                   # analytic answer\n",
    "xx = 2.*np.pi*np.random.rand(Npts)                  # 0=< x =< 2pi\n",
    "yy = 5*np.random.rand(Npts)                         # 0=< y 0< 5\n",
    "\n",
    "for i in range(1, Npts):\n",
    "    if (yy[i] <= fx(xx[i])):                        # below curve\n",
    "        xi.append(xx[i])\n",
    "        yi.append(yy[i])\n",
    "        j += 1                                      # increase count\n",
    "    else:\n",
    "        xo.append(xx[i])\n",
    "        yo.append(yy[i])\n",
    "\n",
    "boxarea = 2.*np.pi*5                # Box area\n",
    "area = boxarea*j/(Npts-1)           # area under curve\n",
    "\n",
    "ax.plot(xo, yo, 'bo', markersize=3)\n",
    "ax.plot(xi, yi, 'ro', markersize=3)\n",
    "ax.set_title('Ans: Analytic = %5.3f, MC =%5.3f' % (analyt, area))\n",
    "plt.show()\n"
   ]
  }
 ],
 "metadata": {
  "kernelspec": {
   "display_name": "Python 3.10.7 ('venv': venv)",
   "language": "python",
   "name": "python3"
  },
  "language_info": {
   "codemirror_mode": {
    "name": "ipython",
    "version": 3
   },
   "file_extension": ".py",
   "mimetype": "text/x-python",
   "name": "python",
   "nbconvert_exporter": "python",
   "pygments_lexer": "ipython3",
   "version": "3.10.7"
  },
  "orig_nbformat": 4,
  "vscode": {
   "interpreter": {
    "hash": "35f832ec50ff747b3993395278d5f2c146e5e1b37bdf2f1f8a4e165a452e2c27"
   }
  }
 },
 "nbformat": 4,
 "nbformat_minor": 2
}
