{
 "cells": [
  {
   "cell_type": "code",
   "execution_count": 1,
   "metadata": {},
   "outputs": [
    {
     "name": "stdout",
     "output_type": "stream",
     "text": [
      "2.998428176678047\n"
     ]
    }
   ],
   "source": [
    "from numpy import *\n",
    "\n",
    "\n",
    "def func(x):\n",
    "    return 5 * (sin(8*x)) ** 2 * exp(-x*x) - 13 * cos(3*x)\n",
    "\n",
    "\n",
    "def trapezoid(A, B, N):\n",
    "    h = (B-A) / (N-1)               # step size\n",
    "    sum = (func(A)+func(B)) / 2     # (1st + last )/2\n",
    "    for i in range(1, N-1):\n",
    "        sum += func(A+i * h)\n",
    "    return h * sum\n",
    "\n",
    "\n",
    "A = 0.5\n",
    "B = 2.3\n",
    "N = 1200\n",
    "print(trapezoid(A, B, N-1))\n"
   ]
  }
 ],
 "metadata": {
  "kernelspec": {
   "display_name": "Python 3.9.13 ('CP_39')",
   "language": "python",
   "name": "python3"
  },
  "language_info": {
   "codemirror_mode": {
    "name": "ipython",
    "version": 3
   },
   "file_extension": ".py",
   "mimetype": "text/x-python",
   "name": "python",
   "nbconvert_exporter": "python",
   "pygments_lexer": "ipython3",
   "version": "3.9.13"
  },
  "orig_nbformat": 4,
  "vscode": {
   "interpreter": {
    "hash": "54138162965690a2a737bcfadfc96b28c50b8037099ed4be894d2f557985ce5f"
   }
  }
 },
 "nbformat": 4,
 "nbformat_minor": 2
}
