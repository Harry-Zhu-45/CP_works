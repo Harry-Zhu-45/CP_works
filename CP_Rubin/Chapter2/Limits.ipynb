{
 "cells": [
  {
   "cell_type": "markdown",
   "id": "c439da80",
   "metadata": {},
   "source": [
    "# Machine's Precision\n",
    "\n",
    "The preceding loss of precision is categorized by defining the machine precision $\\epsilon_m$ as the maximum positive number that, on the computer, can be added to the number stored as 1 without changing that stored 1\n",
    "\n",
    "$$\n",
    "1_c + \\epsilon_m = 1_c\n",
    "$$\n"
   ]
  },
  {
   "cell_type": "code",
   "execution_count": null,
   "id": "35aa239e",
   "metadata": {},
   "outputs": [],
   "source": [
    "N = 10\n",
    "eps = 1.0\n",
    "\n",
    "for i in range(N):\n",
    "    eps /= 2\n",
    "    one_Plus_eps = 1.0 + eps\n",
    "    print('one + eps = ', one_Plus_eps)\n",
    "    print('eps = ', eps)\n"
   ]
  }
 ],
 "metadata": {
  "kernelspec": {
   "display_name": "Python 3 (ipykernel)",
   "language": "python",
   "name": "python3"
  },
  "language_info": {
   "codemirror_mode": {
    "name": "ipython",
    "version": 3
   },
   "file_extension": ".py",
   "mimetype": "text/x-python",
   "name": "python",
   "nbconvert_exporter": "python",
   "pygments_lexer": "ipython3",
   "version": "3.11.9"
  }
 },
 "nbformat": 4,
 "nbformat_minor": 5
}
