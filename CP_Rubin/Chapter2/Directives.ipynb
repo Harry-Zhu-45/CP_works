{
 "cells": [
  {
   "cell_type": "code",
   "execution_count": 1,
   "id": "7d48e417",
   "metadata": {},
   "outputs": [
    {
     "name": "stdout",
     "output_type": "stream",
     "text": [
      "hello \n",
      "\n",
      "\t it's me\n",
      "decimal 73 as integer b = 73 \n",
      "as octal b = 111\n",
      "as hexadecimal b = 49 \n",
      "learn \"Python\" \n",
      "shows a backslash \\\n",
      "use of single ' quotes ' \n"
     ]
    }
   ],
   "source": [
    "import sys\n",
    "\n",
    "\n",
    "print(\"hello \\n\")\n",
    "print(\"\\t it's me\")     #tabulator\n",
    "b=73\n",
    "print(\"decimal 73 as integer b = %d \"%(b))  #for integer\n",
    "print(\"as octal b = %o\"%(b))   #octal\n",
    "print(\"as hexadecimal b = %x \"%(b))   #works hexadecimal\n",
    "print(\"learn \\\"Python\\\" \")   #use of double quote symbol\n",
    "print(\"shows a backslash \\\\\") #use of \\\\\n",
    "print('use of single \\' quotes \\' ')  #print single quotes\n"
   ]
  }
 ],
 "metadata": {
  "kernelspec": {
   "display_name": "Python 3 (ipykernel)",
   "language": "python",
   "name": "python3"
  },
  "language_info": {
   "codemirror_mode": {
    "name": "ipython",
    "version": 3
   },
   "file_extension": ".py",
   "mimetype": "text/x-python",
   "name": "python",
   "nbconvert_exporter": "python",
   "pygments_lexer": "ipython3",
   "version": "3.9.13"
  }
 },
 "nbformat": 4,
 "nbformat_minor": 5
}
