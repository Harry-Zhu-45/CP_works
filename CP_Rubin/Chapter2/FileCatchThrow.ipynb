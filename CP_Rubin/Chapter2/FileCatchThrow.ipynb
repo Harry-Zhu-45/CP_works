{
 "cells": [
  {
   "cell_type": "code",
   "execution_count": 1,
   "id": "0a6808c4",
   "metadata": {},
   "outputs": [
    {
     "name": "stdout",
     "output_type": "stream",
     "text": [
      "output in ThrowCatch.dat\n"
     ]
    }
   ],
   "source": [
    "from math import pi\n",
    "\n",
    "\n",
    "r = 2\n",
    "\n",
    "circum = 2. * pi * r  # Calculate circum\n",
    "A = pi * r**2  # Calculate A\n",
    "\n",
    "try:\n",
    "    q = open(\"ThrowCatch.dat\", 'w')\n",
    "except IOError:\n",
    "    print('Cannot open file')\n",
    "else:\n",
    "    q.write(\"r = %9.6f, length = %9.6f, A= %9.6f \" % (r, circum, A))\n",
    "\n",
    "    q.close()\n",
    "    print('output in ThrowCatch.dat')"
   ]
  }
 ],
 "metadata": {
  "kernelspec": {
   "display_name": "Python 3 (ipykernel)",
   "language": "python",
   "name": "python3"
  },
  "language_info": {
   "codemirror_mode": {
    "name": "ipython",
    "version": 3
   },
   "file_extension": ".py",
   "mimetype": "text/x-python",
   "name": "python",
   "nbconvert_exporter": "python",
   "pygments_lexer": "ipython3",
   "version": "3.11.9"
  }
 },
 "nbformat": 4,
 "nbformat_minor": 5
}
