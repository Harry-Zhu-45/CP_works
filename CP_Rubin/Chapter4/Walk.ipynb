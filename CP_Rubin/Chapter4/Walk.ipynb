{
 "cells": [
  {
   "cell_type": "code",
   "execution_count": null,
   "metadata": {},
   "outputs": [],
   "source": [
    "# Walk.py, A 2D Random Walk, Notebook Verssion\n",
    "\n",
    "from __future__ import division, print_function\n",
    "from vpython import *\n",
    "from IPython.display import IFrame\n",
    "import random\n",
    "from numpy import *\n",
    "\n",
    "\n",
    "scene = canvas(title=\"Walk 2D\")\n",
    "scene.width = 500\n",
    "scene.height = 500\n",
    "scene.range = 35\n",
    "walk = curve(color=color.yellow, radius=0.1)\n",
    "\n",
    "\n",
    "jmax = 10000\n",
    "x = 0\n",
    "y = 0\n",
    "# walk.pos=(0,0)\n",
    "\n",
    "\n",
    "for i in range(0, jmax):\n",
    "    x += 2.0 * random.random() - 1\n",
    "    y += 2.0 * random.random() - 1\n",
    "    walk.append(pos=(x, y, 0))\n",
    "\n",
    "xaxs = curve(pos=[vector(0, 0, 0), vector(0, 30, 0)], radius=0.2)\n",
    "yaxs = curve(pos=[vector(0, 0, 0), vector(30, 0, 0)], radius=0.2)\n",
    "xlb = label(x=45, y=3, text=\"x\", height=20)\n",
    "ylb = label(x=10, y=30, text=\"y\", height=20)\n",
    "R = sqrt(x*x+y*y)\n",
    "rlb = label(pos=vector(-30, 25, 0), height=20)\n",
    "message = \"Distance from origin \"\n",
    "message += \"%.2f\" % R\n",
    "rlb.text = message\n"
   ]
  }
 ],
 "metadata": {
  "kernelspec": {
   "display_name": "Python 3 (ipykernel)",
   "language": "python",
   "name": "python3"
  },
  "language_info": {
   "codemirror_mode": {
    "name": "ipython",
    "version": 3
   },
   "file_extension": ".py",
   "mimetype": "text/x-python",
   "name": "python",
   "nbconvert_exporter": "python",
   "pygments_lexer": "ipython3",
   "version": "3.9.13"
  },
  "vscode": {
   "interpreter": {
    "hash": "54138162965690a2a737bcfadfc96b28c50b8037099ed4be894d2f557985ce5f"
   }
  }
 },
 "nbformat": 4,
 "nbformat_minor": 2
}
