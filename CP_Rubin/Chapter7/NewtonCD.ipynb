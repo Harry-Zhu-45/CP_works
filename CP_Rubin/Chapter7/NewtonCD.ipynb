{
 "cells": [
  {
   "cell_type": "code",
   "execution_count": null,
   "metadata": {},
   "outputs": [],
   "source": [
    "# Newton Search with central difference\n",
    "from math import cos\n",
    "\n",
    "\n",
    "x = 4.\n",
    "dx = 3.e-1\n",
    "eps = 1e-3\n",
    "imax = 100  # Max no of iterations\n",
    "\n",
    "\n",
    "def f(x):\n",
    "    return 2 * cos(x) - x\n",
    "\n",
    "\n",
    "for it in range(0, imax + 1):\n",
    "    F = f(x)\n",
    "    if (abs(F) <= eps):  # Check for convergence\n",
    "        print(\"\\n Root found , F =\", F, \" , tolerance eps = \", eps)\n",
    "        break\n",
    "\n",
    "    print(\" Iteration # = \", it, \" x = \", x, \" f(x) = \", F)\n",
    "\n",
    "    df = (f(x+dx/2.) - f(x-dx/2.)) / dx  # Central diff\n",
    "    dx = - F / df\n",
    "    x += dx  # New guess\n"
   ]
  }
 ],
 "metadata": {
  "kernelspec": {
   "display_name": "Python 3.10.7 ('venv': venv)",
   "language": "python",
   "name": "python3"
  },
  "language_info": {
   "codemirror_mode": {
    "name": "ipython",
    "version": 3
   },
   "file_extension": ".py",
   "mimetype": "text/x-python",
   "name": "python",
   "nbconvert_exporter": "python",
   "pygments_lexer": "ipython3",
   "version": "3.10.7"
  },
  "orig_nbformat": 4,
  "vscode": {
   "interpreter": {
    "hash": "35f832ec50ff747b3993395278d5f2c146e5e1b37bdf2f1f8a4e165a452e2c27"
   }
  }
 },
 "nbformat": 4,
 "nbformat_minor": 2
}
