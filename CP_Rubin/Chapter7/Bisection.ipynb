{
 "cells": [
  {
   "cell_type": "code",
   "execution_count": null,
   "metadata": {},
   "outputs": [],
   "source": [
    "# Find zero via Bisection algorithm\n",
    "from vpython import *\n",
    "\n",
    "\n",
    "def f(x):\n",
    "    return 2 * cos(x) - x\n",
    "\n",
    "\n",
    "def bisection(xminus, xplus, Nmax, eps):  # x+, x-, Nmax, error\n",
    "    for it in range(0, Nmax):\n",
    "        x = (xplus + xminus) / 2.  # Mid point\n",
    "        print(\" it \", it, \" x \", x, \" f(x) \", f(x))\n",
    "        if (f(xplus) * f(x) > 0.):  # Root in left half\n",
    "            xplus = x               # Change x+ to x\n",
    "        else:                       # Root in left half\n",
    "            xminus = x              # Change x- to x\n",
    "        if (abs(f(x)) < eps):\n",
    "            print(\"\\n Root found with precision eps = \", eps)\n",
    "            break\n",
    "        if it == Nmax-1:\n",
    "            print(\"\\n Root NOT found after Nmax iterations\\n\")\n",
    "    return x\n",
    "\n",
    "\n",
    "eps = 1e-15  # Precision of zero\n",
    "a = 0.0\n",
    "b = 7.0  # Root in [a, b]\n",
    "imax = 100  # Max iterations\n",
    "root = bisection(a, b, imax, eps)\n",
    "print(\" Root = \", root)\n"
   ]
  },
  {
   "cell_type": "code",
   "execution_count": null,
   "metadata": {},
   "outputs": [],
   "source": [
    "eps = 1e-16  # Precision of zero\n",
    "root = bisection(a, b, imax, eps)\n",
    "print(\" Root = \", root)\n"
   ]
  },
  {
   "cell_type": "code",
   "execution_count": null,
   "metadata": {},
   "outputs": [],
   "source": [
    "eps = 1e-17  # Precision of zero\n",
    "root = bisection(a, b, imax, eps)\n",
    "print(\" Root = \", root)\n"
   ]
  },
  {
   "cell_type": "markdown",
   "metadata": {},
   "source": [
    "计算精度可以达到$10^{16}$"
   ]
  }
 ],
 "metadata": {
  "kernelspec": {
   "display_name": "Python 3 (ipykernel)",
   "language": "python",
   "name": "python3"
  },
  "language_info": {
   "codemirror_mode": {
    "name": "ipython",
    "version": 3
   },
   "file_extension": ".py",
   "mimetype": "text/x-python",
   "name": "python",
   "nbconvert_exporter": "python",
   "pygments_lexer": "ipython3",
   "version": "3.10.7"
  },
  "vscode": {
   "interpreter": {
    "hash": "35f832ec50ff747b3993395278d5f2c146e5e1b37bdf2f1f8a4e165a452e2c27"
   }
  }
 },
 "nbformat": 4,
 "nbformat_minor": 2
}
