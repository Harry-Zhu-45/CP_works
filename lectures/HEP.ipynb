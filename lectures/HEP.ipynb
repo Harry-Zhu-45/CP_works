{
 "cells": [
  {
   "cell_type": "markdown",
   "metadata": {
    "vscode": {
     "languageId": "plaintext"
    }
   },
   "source": [
    "# HEP\n",
    "\n",
    "高能物理研究范围\n",
    "\n",
    "需要更高的能量探索更小的尺度\n",
    "\n",
    "## 数据处理流程\n",
    "\n",
    "- event filtering, tagging, storage\n",
    "- calibration, alignment\n",
    "- event reconstruction\n",
    "- storage\n",
    "- event simulation\n",
    "- physics analyses\n",
    "\n",
    "## GPU\n",
    "\n",
    "GPGPU CUDA\n",
    "\n",
    "## ML\n",
    "\n",
    "..."
   ]
  }
 ],
 "metadata": {
  "language_info": {
   "name": "python"
  }
 },
 "nbformat": 4,
 "nbformat_minor": 2
}
