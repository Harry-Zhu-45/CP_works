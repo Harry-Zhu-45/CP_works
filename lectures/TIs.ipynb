{
 "cells": [
  {
   "cell_type": "markdown",
   "metadata": {
    "vscode": {
     "languageId": "plaintext"
    }
   },
   "source": [
    "# 拓扑绝缘体\n",
    "\n",
    "## 背景\n",
    "\n",
    "- 2005 石墨烯 自旋\n",
    "- 2006 张首晟 HgTe/CdTe 量子自旋霍尔效应\n",
    "- 2007 拓扑能带理论 Bi 1-x Sb x 三维拓扑绝缘体\n",
    "- 2009 Bi2Te3 家族\n",
    "\n",
    "## 第一性原理\n",
    "\n",
    "- 结构稳定性\n",
    "- 电子性质\n",
    "- 拓扑特性\n",
    "\n",
    "计算工具：VASP、Wannier Tools\n",
    "\n",
    "## 机器学习\n",
    "\n",
    "- SISSO\n",
    "\n",
    "## band inversion\n",
    "\n",
    "化学键、晶体场 vs. 自旋轨道耦合\n",
    "\n",
    "$\\delta_{0}$ 判据\n",
    "\n",
    "$$\n",
    "\\delta_{0} = \\frac{\\lambda}{\\Delta_{\\Gamma}}\n",
    "$$\n",
    "\n",
    "角分辨光电子能谱（ARPES）可以在实验上确定材料是不是拓扑绝缘体？"
   ]
  }
 ],
 "metadata": {
  "language_info": {
   "name": "python"
  }
 },
 "nbformat": 4,
 "nbformat_minor": 2
}
